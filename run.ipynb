{
 "cells": [
  {
   "cell_type": "code",
   "execution_count": 9,
   "id": "37ea033f",
   "metadata": {},
   "outputs": [],
   "source": [
    "import os \n",
    "wd = str(os.getcwd())\n",
    "\n",
    "from agrimask.stack import ndvi_ts\n",
    "indice = ndvi_ts.indice()\n",
    "\n",
    "from agrimask.classification import lulc_classification\n",
    "clf = lulc_classification.Classifier()"
   ]
  },
  {
   "cell_type": "code",
   "execution_count": null,
   "id": "ca736b5e",
   "metadata": {},
   "outputs": [],
   "source": [
    "indice.layer_stack('2021-10-01', '2022-04-30', 30, 15, shp_file=f'shapefiles/haryana/faridabad/faridabad.shp')"
   ]
  },
  {
   "cell_type": "code",
   "execution_count": 8,
   "id": "aacee211",
   "metadata": {},
   "outputs": [
    {
     "data": {
      "text/plain": [
       "'/home/ec2-user/SageMaker/sumit1/agrimask/agriculture-land-identification-main/cc/2023-05-10-09-58-18/lulc_cluster.tif'"
      ]
     },
     "execution_count": 8,
     "metadata": {},
     "output_type": "execute_result"
    }
   ],
   "source": [
    "clf.lulc_cluster(f'{wd}/cc/2023-05-10-09-58-18/stack/ndvi.tif', [1, 4, 7], 6)"
   ]
  },
  {
   "cell_type": "code",
   "execution_count": null,
   "id": "587120e7",
   "metadata": {},
   "outputs": [],
   "source": []
  }
 ],
 "metadata": {
  "kernelspec": {
   "display_name": "conda_python3",
   "language": "python",
   "name": "conda_python3"
  },
  "language_info": {
   "codemirror_mode": {
    "name": "ipython",
    "version": 3
   },
   "file_extension": ".py",
   "mimetype": "text/x-python",
   "name": "python",
   "nbconvert_exporter": "python",
   "pygments_lexer": "ipython3",
   "version": "3.6.13"
  }
 },
 "nbformat": 4,
 "nbformat_minor": 5
}
